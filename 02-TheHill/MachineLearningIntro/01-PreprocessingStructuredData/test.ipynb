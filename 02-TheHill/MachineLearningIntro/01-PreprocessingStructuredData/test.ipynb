{
 "cells": [
  {
   "cell_type": "code",
   "execution_count": 1,
   "metadata": {},
   "outputs": [],
   "source": [
    "import pandas as pd\n",
    "\n",
    "# Örnek veri\n",
    "data = {\n",
    "    'Color': ['Red', 'Blue', 'Green', 'Blue', 'Red'],\n",
    "    'Size': ['S', 'M', 'L', 'M', 'S']\n",
    "}\n",
    "\n",
    "df = pd.DataFrame(data)\n",
    "\n",
    "\n",
    "\n"
   ]
  },
  {
   "cell_type": "code",
   "execution_count": 4,
   "metadata": {},
   "outputs": [
    {
     "data": {
      "text/html": [
       "<div>\n",
       "<style scoped>\n",
       "    .dataframe tbody tr th:only-of-type {\n",
       "        vertical-align: middle;\n",
       "    }\n",
       "\n",
       "    .dataframe tbody tr th {\n",
       "        vertical-align: top;\n",
       "    }\n",
       "\n",
       "    .dataframe thead th {\n",
       "        text-align: right;\n",
       "    }\n",
       "</style>\n",
       "<table border=\"1\" class=\"dataframe\">\n",
       "  <thead>\n",
       "    <tr style=\"text-align: right;\">\n",
       "      <th></th>\n",
       "      <th>Color</th>\n",
       "      <th>Size</th>\n",
       "    </tr>\n",
       "  </thead>\n",
       "  <tbody>\n",
       "    <tr>\n",
       "      <th>0</th>\n",
       "      <td>Red</td>\n",
       "      <td>S</td>\n",
       "    </tr>\n",
       "    <tr>\n",
       "      <th>1</th>\n",
       "      <td>Blue</td>\n",
       "      <td>M</td>\n",
       "    </tr>\n",
       "    <tr>\n",
       "      <th>2</th>\n",
       "      <td>Green</td>\n",
       "      <td>L</td>\n",
       "    </tr>\n",
       "    <tr>\n",
       "      <th>3</th>\n",
       "      <td>Blue</td>\n",
       "      <td>M</td>\n",
       "    </tr>\n",
       "    <tr>\n",
       "      <th>4</th>\n",
       "      <td>Red</td>\n",
       "      <td>S</td>\n",
       "    </tr>\n",
       "  </tbody>\n",
       "</table>\n",
       "</div>"
      ],
      "text/plain": [
       "   Color Size\n",
       "0    Red    S\n",
       "1   Blue    M\n",
       "2  Green    L\n",
       "3   Blue    M\n",
       "4    Red    S"
      ]
     },
     "execution_count": 4,
     "metadata": {},
     "output_type": "execute_result"
    }
   ],
   "source": [
    "df.head()"
   ]
  },
  {
   "cell_type": "code",
   "execution_count": 3,
   "metadata": {},
   "outputs": [
    {
     "name": "stdout",
     "output_type": "stream",
     "text": [
      "   Color_Blue  Color_Green  Color_Red  Size_L  Size_M  Size_S\n",
      "0       False        False       True   False   False    True\n",
      "1        True        False      False   False    True   False\n",
      "2       False         True      False    True   False   False\n",
      "3        True        False      False   False    True   False\n",
      "4       False        False       True   False   False    True\n"
     ]
    }
   ],
   "source": [
    "df_dummies = pd.get_dummies(df)\n",
    "\n",
    "print(df_dummies)"
   ]
  },
  {
   "cell_type": "code",
   "execution_count": 5,
   "metadata": {},
   "outputs": [
    {
     "name": "stdout",
     "output_type": "stream",
     "text": [
      "   Col_Blue  Col_Green  Col_Red   Sz_L   Sz_M   Sz_S\n",
      "0     False      False     True  False  False   True\n",
      "1      True      False    False  False   True  False\n",
      "2     False       True    False   True  False  False\n",
      "3      True      False    False  False   True  False\n",
      "4     False      False     True  False  False   True\n"
     ]
    }
   ],
   "source": [
    "df_dummies = pd.get_dummies(df, prefix=['Col', 'Sz'], prefix_sep='_')\n",
    "print(df_dummies)\n"
   ]
  },
  {
   "cell_type": "code",
   "execution_count": 6,
   "metadata": {},
   "outputs": [
    {
     "name": "stdout",
     "output_type": "stream",
     "text": [
      "   Color_Blue  Color_Green  Color_Red  Color_nan  Size_L  Size_M  Size_S  \\\n",
      "0       False        False       True      False   False   False    True   \n",
      "1       False        False      False       True   False    True   False   \n",
      "2       False         True      False      False    True   False   False   \n",
      "3        True        False      False      False   False    True   False   \n",
      "4       False        False       True      False   False   False    True   \n",
      "\n",
      "   Size_nan  \n",
      "0     False  \n",
      "1     False  \n",
      "2     False  \n",
      "3     False  \n",
      "4     False  \n"
     ]
    }
   ],
   "source": [
    "df_with_nan = df.copy()\n",
    "df_with_nan.loc[1, 'Color'] = None\n",
    "\n",
    "df_dummies = pd.get_dummies(df_with_nan, dummy_na=True)\n",
    "print(df_dummies)\n"
   ]
  },
  {
   "cell_type": "code",
   "execution_count": 7,
   "metadata": {},
   "outputs": [
    {
     "name": "stdout",
     "output_type": "stream",
     "text": [
      "   Color_Green  Color_Red  Size_M  Size_S\n",
      "0        False       True   False    True\n",
      "1        False      False    True   False\n",
      "2         True      False   False   False\n",
      "3        False      False    True   False\n",
      "4        False       True   False    True\n"
     ]
    }
   ],
   "source": [
    "df_dummies = pd.get_dummies(df, drop_first=True)\n",
    "print(df_dummies)\n"
   ]
  }
 ],
 "metadata": {
  "kernelspec": {
   "display_name": "Python 3",
   "language": "python",
   "name": "python3"
  },
  "language_info": {
   "codemirror_mode": {
    "name": "ipython",
    "version": 3
   },
   "file_extension": ".py",
   "mimetype": "text/x-python",
   "name": "python",
   "nbconvert_exporter": "python",
   "pygments_lexer": "ipython3",
   "version": "3.12.3"
  }
 },
 "nbformat": 4,
 "nbformat_minor": 2
}
