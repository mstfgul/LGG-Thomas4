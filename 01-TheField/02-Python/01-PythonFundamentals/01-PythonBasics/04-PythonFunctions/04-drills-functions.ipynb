{
 "cells": [
  {
   "cell_type": "markdown",
   "metadata": {},
   "source": [
    "# Drill functions"
   ]
  },
  {
   "cell_type": "markdown",
   "metadata": {},
   "source": [
    "### 1. Say Hello\n",
    "Write a function called `hello` that returns a string of characters. This function will take as argument a variable `name`. This function will return a string `\"Hello name\"`."
   ]
  },
  {
   "cell_type": "markdown",
   "metadata": {},
   "source": [
    "Example :\n",
    "<pre><code>hello('Jean') => 'Hello Jean'</code></pre>\n",
    "<pre><code>hello() => 'Hello Anonymous' </code></pre>"
   ]
  },
  {
   "cell_type": "code",
   "execution_count": 54,
   "metadata": {},
   "outputs": [
    {
     "name": "stdout",
     "output_type": "stream",
     "text": [
      "Hello m\n"
     ]
    }
   ],
   "source": [
    "def hello(name):\n",
    "    # Your code\n",
    "    print(f\"Hello {name}\")\n",
    "    return\n"
   ]
  },
  {
   "cell_type": "markdown",
   "metadata": {},
   "source": [
    "### 2. Count students\n",
    "Create a function `sum_of_students` that calculates and counts the number of students in a list and returns the total. The function will have to return an integer."
   ]
  },
  {
   "cell_type": "markdown",
   "metadata": {},
   "source": [
    "Example : \n",
    "```\n",
    "sum_of_students([[\"Jean\", \"Alice\", \"Edwige\", \"Peter\", \"James\"],\n",
    "               [\"Redouane\", \"Justine\", \"Adrien\", \"Nicolas\", \"Pierre\"]]) => 10\n",
    "```"
   ]
  },
  {
   "cell_type": "code",
   "execution_count": 7,
   "metadata": {},
   "outputs": [
    {
     "data": {
      "text/plain": [
       "12"
      ]
     },
     "execution_count": 7,
     "metadata": {},
     "output_type": "execute_result"
    }
   ],
   "source": [
    "def sum_of_students(students):\n",
    "    counter = 0\n",
    "    for i in students:\n",
    "        counter += 1\n",
    "    return counter\n"
   ]
  },
  {
   "cell_type": "markdown",
   "metadata": {},
   "source": [
    "### 3.  Is divisible ?\n",
    "Create a function `is_divisible(n, x, y)` that checks if a number `n` is divisible by two numbers `x` AND `y`. All inputs are positive, non-zero digits."
   ]
  },
  {
   "cell_type": "markdown",
   "metadata": {},
   "source": [
    "Example:\n",
    "```\n",
    "is_divisible(3, 1, 3)--> True because 3 is divisible by 1 and 3\n",
    "is_divisible(12, 2, 6)--> True because 12 is divisible by 2 and 6\n",
    "is_divisible(100, 5, 3)--> False because 100 is not divisible by 3\n",
    "is_divisible(12, 7, 5)--> False because 12 is neither divisible by 7 nor 5\n",
    "```"
   ]
  },
  {
   "cell_type": "code",
   "execution_count": 20,
   "metadata": {},
   "outputs": [
    {
     "data": {
      "text/plain": [
       "True"
      ]
     },
     "execution_count": 20,
     "metadata": {},
     "output_type": "execute_result"
    }
   ],
   "source": [
    "def is_divisible(n, x, y):\n",
    "    if n % x == 0 and n % y == 0:\n",
    "        return True\n",
    "    return False\n"
   ]
  },
  {
   "cell_type": "markdown",
   "metadata": {},
   "source": [
    "### 4. Abbreviate a two-word name\n",
    "Write a function to convert a name into initials. This functions strictly takes two words with one space in between them."
   ]
  },
  {
   "cell_type": "markdown",
   "metadata": {},
   "source": [
    "Example : \n",
    "```\n",
    "Sam Harris => S.H\n",
    "\n",
    "Patrick Feeney => P.F\n",
    "```"
   ]
  },
  {
   "cell_type": "code",
   "execution_count": 34,
   "metadata": {},
   "outputs": [
    {
     "data": {
      "text/plain": [
       "'MG'"
      ]
     },
     "execution_count": 34,
     "metadata": {},
     "output_type": "execute_result"
    }
   ],
   "source": [
    "def abbreviate_name(name):\n",
    "    initials = \"\"\n",
    "    for word in name.split():\n",
    "        initials += word[0].upper()\n",
    "    return initials\n",
    "\n"
   ]
  },
  {
   "cell_type": "markdown",
   "metadata": {},
   "source": [
    "### 5. Sum of positive \n",
    "You get an array of numbers, return the sum of all of the positives ones."
   ]
  },
  {
   "cell_type": "markdown",
   "metadata": {},
   "source": [
    "Example :  \n",
    "` [1,-4,7,12] => 1 + 7 + 12 = 20`"
   ]
  },
  {
   "cell_type": "code",
   "execution_count": 27,
   "metadata": {},
   "outputs": [
    {
     "data": {
      "text/plain": [
       "8"
      ]
     },
     "execution_count": 27,
     "metadata": {},
     "output_type": "execute_result"
    }
   ],
   "source": [
    "def positive_sum(numbers):\n",
    "    sum_of_pos = 0\n",
    "    for i in numbers:\n",
    "        if i > 0:\n",
    "            sum_of_pos += i\n",
    "    return sum_of_pos \n"
   ]
  },
  {
   "cell_type": "markdown",
   "metadata": {},
   "source": [
    "### 6. Sum mixed array \n",
    "\n",
    "Given an array of integers as strings and numbers, return the sum of the array values as if all were numbers.\n",
    "\n",
    "Return your answer as a number.\n"
   ]
  },
  {
   "cell_type": "markdown",
   "metadata": {},
   "source": [
    "Example : \n",
    "```\n",
    "mixed_sum(['5', '0', 9, 3, 2, 1, '9', 6, 7]) => 42\n",
    "```"
   ]
  },
  {
   "cell_type": "code",
   "execution_count": 46,
   "metadata": {},
   "outputs": [],
   "source": [
    "def mixed_sum(array):\n",
    "    sum_of_array = 0\n",
    "    for element in array:\n",
    "        try:\n",
    "            number = int(element)\n",
    "        except ValueError:\n",
    "            number = int(element.strip())\n",
    "\n",
    "        sum_of_array += number\n",
    "\n",
    "    return sum_of_array"
   ]
  },
  {
   "cell_type": "markdown",
   "metadata": {},
   "source": [
    "### 7. Return the day\n",
    "Complete the function which returns the weekday according to the input number:\n",
    "\n",
    "    1 returns \"Sunday\"\n",
    "    2 returns \"Monday\"\n",
    "    3 returns \"Tuesday\"\n",
    "    4 returns \"Wednesday\"\n",
    "    5 returns \"Thursday\"\n",
    "    6 returns \"Friday\"\n",
    "    7 returns \"Saturday\"\n",
    "    Otherwise returns \"Wrong, please enter a number between 1 and 7\"\n",
    "\n"
   ]
  },
  {
   "cell_type": "code",
   "execution_count": 44,
   "metadata": {},
   "outputs": [],
   "source": [
    "def what_day(number):\n",
    "    days_of_the_week = {\n",
    "        1: \"Sunday\",\n",
    "        2: \"Monday\",\n",
    "        3: \"Tuesday\",\n",
    "        4: \"Wednesday\",\n",
    "        5: \"Thursday\",\n",
    "        6: \"Friday\",\n",
    "        7: \"Saturday\",\n",
    "    }\n",
    "\n",
    "    if 1 <= number <= 7:\n",
    "        return days_of_the_week[number]\n",
    "    else:\n",
    "        return \"Wrong, please enter a number between 1 and 7\""
   ]
  },
  {
   "cell_type": "markdown",
   "metadata": {},
   "source": [
    "### 8. Summation\n",
    "Write a program that finds the summation of every number from 1 to `number`. The number will always be a positive integer greater than 0.\n"
   ]
  },
  {
   "cell_type": "markdown",
   "metadata": {},
   "source": [
    "Example : \n",
    "```\n",
    "    summation(2) -> 3\n",
    "    1 + 2\n",
    "\n",
    "    summation(8) -> 36\n",
    "    1 + 2 + 3 + 4 + 5 + 6 + 7 + 8\n",
    "```"
   ]
  },
  {
   "cell_type": "code",
   "execution_count": 42,
   "metadata": {},
   "outputs": [
    {
     "data": {
      "text/plain": [
       "15"
      ]
     },
     "execution_count": 42,
     "metadata": {},
     "output_type": "execute_result"
    }
   ],
   "source": [
    "def summation(numbers):\n",
    "    total = 0\n",
    "    for i in range(1, numbers + 1):\n",
    "        total += i\n",
    "    return total\n",
    "\n",
    "summation(5)"
   ]
  },
  {
   "cell_type": "markdown",
   "metadata": {},
   "source": [
    "### 9. If you can't sleep, just count sheep!!"
   ]
  },
  {
   "cell_type": "markdown",
   "metadata": {},
   "source": [
    "Given a non-negative integer, 3 for example, return a string saying: \"1 sheep...2 sheep...3 sheep...\". Input will always be valid, i.e. no negative integers."
   ]
  },
  {
   "cell_type": "code",
   "execution_count": 50,
   "metadata": {},
   "outputs": [
    {
     "name": "stdout",
     "output_type": "stream",
     "text": [
      "1 sheep\n",
      "2 sheep\n",
      "3 sheep\n",
      "4 sheep\n"
     ]
    }
   ],
   "source": [
    "def count_sheep(number):\n",
    "    for i in range(1, number +1):\n",
    "        print(f\"{i} sheep\")\n",
    "    return\n"
   ]
  },
  {
   "cell_type": "markdown",
   "metadata": {},
   "source": [
    "### 10. Student's final grade \n",
    "Create a function `final_grade`, which calculates the final grade of a student depending on two parameters: a grade for the `exam_grade` and a number of completed projects.\n",
    "\n",
    "This function should take two arguments: `exam_grade`, grade of the exam (from 0 to 100), and `completed_projects`, number of completed projects (0 and above).\n",
    "\n",
    "This function should return a number, i.e. the final grade. There are four types of final grades:\n",
    "\n",
    "    100, if a grade for the exam is more than 90 or if the number of completed projects more than 10.\n",
    "    90, if a grade for the exam is more than 75 and if the number of completed projects is minimum 5.\n",
    "    75, if a grade for the exam is more than 50 and if the number of completed projects is minimum 2.\n",
    "    0, in other cases\n"
   ]
  },
  {
   "cell_type": "code",
   "execution_count": 10,
   "metadata": {},
   "outputs": [
    {
     "data": {
      "text/plain": [
       "75"
      ]
     },
     "execution_count": 10,
     "metadata": {},
     "output_type": "execute_result"
    }
   ],
   "source": [
    "def final_grade(exam_grade, completed_projects):\n",
    "    grade = 0\n",
    "    if exam_grade > 90 or completed_projects > 10:\n",
    "        grade = 100\n",
    "    elif exam_grade > 75 and completed_projects >= 5:\n",
    "        grade = 90\n",
    "    elif exam_grade > 50 and completed_projects >= 2:\n",
    "        grade = 75 \n",
    "    else:\n",
    "        grade = 0\n",
    "    return grade\n"
   ]
  },
  {
   "cell_type": "markdown",
   "metadata": {},
   "source": [
    "## Testing"
   ]
  },
  {
   "cell_type": "markdown",
   "metadata": {},
   "source": [
    "Do not touch the code, just run it"
   ]
  },
  {
   "cell_type": "code",
   "execution_count": 12,
   "metadata": {},
   "outputs": [
    {
     "name": "stderr",
     "output_type": "stream",
     "text": [
      "test_abbreviate_name (__main__.TestNotebook.test_abbreviate_name) ... ERROR\n",
      "test_count_sheep (__main__.TestNotebook.test_count_sheep) ... ERROR\n",
      "test_final_grade (__main__.TestNotebook.test_final_grade) ... ok\n",
      "test_hello (__main__.TestNotebook.test_hello) ... ERROR\n",
      "test_is_divisible (__main__.TestNotebook.test_is_divisible) ... ERROR\n",
      "test_positive_sum (__main__.TestNotebook.test_positive_sum) ... ERROR\n",
      "test_return_day (__main__.TestNotebook.test_return_day) ... ERROR\n",
      "test_sum_mixed_array (__main__.TestNotebook.test_sum_mixed_array) ... ERROR\n",
      "test_sum_of_students (__main__.TestNotebook.test_sum_of_students) ... ERROR\n",
      "test_summation (__main__.TestNotebook.test_summation) ... ERROR\n",
      "\n",
      "======================================================================\n",
      "ERROR: test_abbreviate_name (__main__.TestNotebook.test_abbreviate_name)\n",
      "----------------------------------------------------------------------\n",
      "Traceback (most recent call last):\n",
      "  File \"/var/folders/t9/cltb_c81611c4r7kp6n_lhhr0000gn/T/ipykernel_3206/2258805842.py\", line 27, in test_abbreviate_name\n",
      "    self.assertEqual(abbreviate_name(\"Sam Harris\"), \"S.H\")\n",
      "                     ^^^^^^^^^^^^^^^\n",
      "NameError: name 'abbreviate_name' is not defined\n",
      "\n",
      "======================================================================\n",
      "ERROR: test_count_sheep (__main__.TestNotebook.test_count_sheep)\n",
      "----------------------------------------------------------------------\n",
      "Traceback (most recent call last):\n",
      "  File \"/var/folders/t9/cltb_c81611c4r7kp6n_lhhr0000gn/T/ipykernel_3206/2258805842.py\", line 59, in test_count_sheep\n",
      "    self.assertEqual(count_sheep(1), \"1 sheep...\")\n",
      "                     ^^^^^^^^^^^\n",
      "NameError: name 'count_sheep' is not defined\n",
      "\n",
      "======================================================================\n",
      "ERROR: test_hello (__main__.TestNotebook.test_hello)\n",
      "----------------------------------------------------------------------\n",
      "Traceback (most recent call last):\n",
      "  File \"/var/folders/t9/cltb_c81611c4r7kp6n_lhhr0000gn/T/ipykernel_3206/2258805842.py\", line 6, in test_hello\n",
      "    self.assertEqual(hello(), \"Hello Anonymous\")\n",
      "                     ^^^^^\n",
      "NameError: name 'hello' is not defined. Did you mean: 'help'?\n",
      "\n",
      "======================================================================\n",
      "ERROR: test_is_divisible (__main__.TestNotebook.test_is_divisible)\n",
      "----------------------------------------------------------------------\n",
      "Traceback (most recent call last):\n",
      "  File \"/var/folders/t9/cltb_c81611c4r7kp6n_lhhr0000gn/T/ipykernel_3206/2258805842.py\", line 21, in test_is_divisible\n",
      "    self.assertEqual(is_divisible(3, 3, 4), False)\n",
      "                     ^^^^^^^^^^^^\n",
      "NameError: name 'is_divisible' is not defined\n",
      "\n",
      "======================================================================\n",
      "ERROR: test_positive_sum (__main__.TestNotebook.test_positive_sum)\n",
      "----------------------------------------------------------------------\n",
      "Traceback (most recent call last):\n",
      "  File \"/var/folders/t9/cltb_c81611c4r7kp6n_lhhr0000gn/T/ipykernel_3206/2258805842.py\", line 34, in test_positive_sum\n",
      "    self.assertEqual(positive_sum([1, 2, 3, 4, 5]), 15)\n",
      "                     ^^^^^^^^^^^^\n",
      "NameError: name 'positive_sum' is not defined\n",
      "\n",
      "======================================================================\n",
      "ERROR: test_return_day (__main__.TestNotebook.test_return_day)\n",
      "----------------------------------------------------------------------\n",
      "Traceback (most recent call last):\n",
      "  File \"/var/folders/t9/cltb_c81611c4r7kp6n_lhhr0000gn/T/ipykernel_3206/2258805842.py\", line 48, in test_return_day\n",
      "    self.assertEqual(what_day(1), \"Sunday\")\n",
      "                     ^^^^^^^^\n",
      "NameError: name 'what_day' is not defined\n",
      "\n",
      "======================================================================\n",
      "ERROR: test_sum_mixed_array (__main__.TestNotebook.test_sum_mixed_array)\n",
      "----------------------------------------------------------------------\n",
      "Traceback (most recent call last):\n",
      "  File \"/var/folders/t9/cltb_c81611c4r7kp6n_lhhr0000gn/T/ipykernel_3206/2258805842.py\", line 41, in test_sum_mixed_array\n",
      "    self.assertEqual(mixed_sum([9, 3, \"7\", \"3\"]), 22)\n",
      "                     ^^^^^^^^^\n",
      "NameError: name 'mixed_sum' is not defined\n",
      "\n",
      "======================================================================\n",
      "ERROR: test_sum_of_students (__main__.TestNotebook.test_sum_of_students)\n",
      "----------------------------------------------------------------------\n",
      "Traceback (most recent call last):\n",
      "  File \"/var/folders/t9/cltb_c81611c4r7kp6n_lhhr0000gn/T/ipykernel_3206/2258805842.py\", line 11, in test_sum_of_students\n",
      "    sum_of_students(\n",
      "    ^^^^^^^^^^^^^^^\n",
      "NameError: name 'sum_of_students' is not defined\n",
      "\n",
      "======================================================================\n",
      "ERROR: test_summation (__main__.TestNotebook.test_summation)\n",
      "----------------------------------------------------------------------\n",
      "Traceback (most recent call last):\n",
      "  File \"/var/folders/t9/cltb_c81611c4r7kp6n_lhhr0000gn/T/ipykernel_3206/2258805842.py\", line 55, in test_summation\n",
      "    self.assertEqual(summation(1), 1)\n",
      "                     ^^^^^^^^^\n",
      "NameError: name 'summation' is not defined\n",
      "\n",
      "----------------------------------------------------------------------\n",
      "Ran 10 tests in 0.025s\n",
      "\n",
      "FAILED (errors=9)\n"
     ]
    },
    {
     "data": {
      "text/plain": [
       "<unittest.main.TestProgram at 0x105f45670>"
      ]
     },
     "execution_count": 12,
     "metadata": {},
     "output_type": "execute_result"
    }
   ],
   "source": [
    "import unittest\n",
    "\n",
    "\n",
    "class TestNotebook(unittest.TestCase):\n",
    "    def test_hello(self):\n",
    "        self.assertEqual(hello(), \"Hello Anonymous\")\n",
    "        self.assertEqual(hello(\"Jean\"), \"Hello Jean\")\n",
    "\n",
    "    def test_sum_of_students(self):\n",
    "        self.assertEqual(\n",
    "            sum_of_students(\n",
    "                [\n",
    "                    [\"Jean\", \"Alice\", \"Edwige\", \"Peter\", \"James\"],\n",
    "                    [\"Redouane\", \"Justine\", \"Adrien\", \"Nicolas\", \"Pierre\"],\n",
    "                ]\n",
    "            ),\n",
    "            10,\n",
    "        )\n",
    "\n",
    "    def test_is_divisible(self):\n",
    "        self.assertEqual(is_divisible(3, 3, 4), False)\n",
    "        self.assertEqual(is_divisible(12, 3, 4), True)\n",
    "        self.assertEqual(is_divisible(8, 3, 4), False)\n",
    "        self.assertEqual(is_divisible(48, 3, 4), True)\n",
    "\n",
    "    def test_abbreviate_name(self):\n",
    "        self.assertEqual(abbreviate_name(\"Sam Harris\"), \"S.H\")\n",
    "        self.assertEqual(abbreviate_name(\"Patrick Feenan\"), \"P.F\")\n",
    "        self.assertEqual(abbreviate_name(\"Evan Cole\"), \"E.C\")\n",
    "        self.assertEqual(abbreviate_name(\"P Favuzzi\"), \"P.F\")\n",
    "        self.assertEqual(abbreviate_name(\"David Mendieta\"), \"D.M\")\n",
    "\n",
    "    def test_positive_sum(self):\n",
    "        self.assertEqual(positive_sum([1, 2, 3, 4, 5]), 15)\n",
    "        self.assertEqual(positive_sum([1, -2, 3, 4, 5]), 13)\n",
    "        self.assertEqual(positive_sum([-1, 2, 3, 4, -5]), 9)\n",
    "        self.assertEqual(positive_sum([]), 0)\n",
    "        self.assertEqual(positive_sum([-1, -2, -3, -4, -5]), 0)\n",
    "\n",
    "    def test_sum_mixed_array(self):\n",
    "        self.assertEqual(mixed_sum([9, 3, \"7\", \"3\"]), 22)\n",
    "        self.assertEqual(mixed_sum([\"5\", \"0\", 9, 3, 2, 1, \"9\", 6, 7]), 42)\n",
    "        self.assertEqual(mixed_sum([\"3\", 6, 6, 0, \"5\", 8, 5, \"6\", 2, \"0\"]), 41)\n",
    "        self.assertEqual(mixed_sum([\"1\", \"5\", \"8\", 8, 9, 9, 2, \"3\"]), 45)\n",
    "        self.assertEqual(mixed_sum([8, 0, 0, 8, 5, 7, 2, 3, 7, 8, 6, 7]), 61)\n",
    "\n",
    "    def test_return_day(self):\n",
    "        self.assertEqual(what_day(1), \"Sunday\")\n",
    "        self.assertEqual(what_day(2), \"Monday\")\n",
    "        self.assertEqual(what_day(3), \"Tuesday\")\n",
    "        self.assertEqual(what_day(8), \"Wrong, please enter a number between 1 and 7\")\n",
    "        self.assertEqual(what_day(20), \"Wrong, please enter a number between 1 and 7\")\n",
    "\n",
    "    def test_summation(self):\n",
    "        self.assertEqual(summation(1), 1)\n",
    "        self.assertEqual(summation(8), 36)\n",
    "\n",
    "    def test_count_sheep(self):\n",
    "        self.assertEqual(count_sheep(1), \"1 sheep...\")\n",
    "        self.assertEqual(count_sheep(2), \"1 sheep...2 sheep...\")\n",
    "        self.assertEqual(count_sheep(3), \"1 sheep...2 sheep...3 sheep...\")\n",
    "\n",
    "    def test_final_grade(self):\n",
    "        self.assertEqual(final_grade(100, 12), 100)\n",
    "        self.assertEqual(final_grade(85, 5), 90)\n",
    "\n",
    "\n",
    "unittest.main(argv=[\"\"], verbosity=2, exit=False)"
   ]
  }
 ],
 "metadata": {
  "kernelspec": {
   "display_name": "Python 3",
   "language": "python",
   "name": "python3"
  },
  "language_info": {
   "codemirror_mode": {
    "name": "ipython",
    "version": 3
   },
   "file_extension": ".py",
   "mimetype": "text/x-python",
   "name": "python",
   "nbconvert_exporter": "python",
   "pygments_lexer": "ipython3",
   "version": "3.12.3"
  }
 },
 "nbformat": 4,
 "nbformat_minor": 2
}
